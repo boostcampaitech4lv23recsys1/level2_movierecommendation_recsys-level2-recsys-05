{
 "cells": [
  {
   "cell_type": "code",
   "execution_count": 39,
   "id": "787fa807-9324-4747-a453-80f0a5afc96b",
   "metadata": {},
   "outputs": [],
   "source": [
    "import pandas as pd\n",
    "import numpy as np\n",
    "\n",
    "import matplotlib.pyplot as plt\n",
    "\n",
    "import os\n",
    "import time"
   ]
  },
  {
   "cell_type": "code",
   "execution_count": 40,
   "id": "b1735909-cd08-453f-991d-077035c26e66",
   "metadata": {},
   "outputs": [
    {
     "data": {
      "text/html": [
       "<div>\n",
       "<style scoped>\n",
       "    .dataframe tbody tr th:only-of-type {\n",
       "        vertical-align: middle;\n",
       "    }\n",
       "\n",
       "    .dataframe tbody tr th {\n",
       "        vertical-align: top;\n",
       "    }\n",
       "\n",
       "    .dataframe thead th {\n",
       "        text-align: right;\n",
       "    }\n",
       "</style>\n",
       "<table border=\"1\" class=\"dataframe\">\n",
       "  <thead>\n",
       "    <tr style=\"text-align: right;\">\n",
       "      <th></th>\n",
       "      <th>user</th>\n",
       "      <th>item</th>\n",
       "      <th>time</th>\n",
       "    </tr>\n",
       "  </thead>\n",
       "  <tbody>\n",
       "    <tr>\n",
       "      <th>0</th>\n",
       "      <td>11</td>\n",
       "      <td>4643</td>\n",
       "      <td>1230782529</td>\n",
       "    </tr>\n",
       "    <tr>\n",
       "      <th>1</th>\n",
       "      <td>11</td>\n",
       "      <td>170</td>\n",
       "      <td>1230782534</td>\n",
       "    </tr>\n",
       "    <tr>\n",
       "      <th>2</th>\n",
       "      <td>11</td>\n",
       "      <td>531</td>\n",
       "      <td>1230782539</td>\n",
       "    </tr>\n",
       "    <tr>\n",
       "      <th>3</th>\n",
       "      <td>11</td>\n",
       "      <td>616</td>\n",
       "      <td>1230782542</td>\n",
       "    </tr>\n",
       "    <tr>\n",
       "      <th>4</th>\n",
       "      <td>11</td>\n",
       "      <td>2140</td>\n",
       "      <td>1230782563</td>\n",
       "    </tr>\n",
       "  </tbody>\n",
       "</table>\n",
       "</div>"
      ],
      "text/plain": [
       "   user  item        time\n",
       "0    11  4643  1230782529\n",
       "1    11   170  1230782534\n",
       "2    11   531  1230782539\n",
       "3    11   616  1230782542\n",
       "4    11  2140  1230782563"
      ]
     },
     "execution_count": 40,
     "metadata": {},
     "output_type": "execute_result"
    }
   ],
   "source": [
    "data_dir = '../data/train/'\n",
    "\n",
    "train = pd.read_csv(data_dir + 'train_ratings.csv')\n",
    "titles = pd.read_csv(data_dir + 'titles.tsv', sep='\\t')\n",
    "directors = pd.read_csv(data_dir + 'directors.tsv', sep='\\t')\n",
    "genres = pd.read_csv(data_dir + 'genres.tsv', sep='\\t')\n",
    "writers = pd.read_csv(data_dir + 'writers.tsv', sep='\\t')\n",
    "years = pd.read_csv(data_dir + 'years.tsv', sep='\\t')\n",
    "train.head()"
   ]
  },
  {
   "cell_type": "markdown",
   "id": "fc5155ba-761d-45fb-94bd-93b74e683f16",
   "metadata": {},
   "source": [
    "train에서 feature 종류"
   ]
  },
  {
   "cell_type": "code",
   "execution_count": 41,
   "id": "64c70aa0-8633-4ace-ab06-f01235c5b0b5",
   "metadata": {},
   "outputs": [
    {
     "data": {
      "text/plain": [
       "user      31360\n",
       "item       6807\n",
       "time    5074973\n",
       "dtype: int64"
      ]
     },
     "execution_count": 41,
     "metadata": {},
     "output_type": "execute_result"
    }
   ],
   "source": [
    "train.nunique()"
   ]
  },
  {
   "cell_type": "markdown",
   "id": "46e97f74-be0c-4723-8f73-4461bbacf5d4",
   "metadata": {},
   "source": [
    "user별 item 수"
   ]
  },
  {
   "cell_type": "code",
   "execution_count": 42,
   "id": "17cfc009-2c1f-4943-926e-2c51f3615e73",
   "metadata": {},
   "outputs": [
    {
     "data": {
      "text/plain": [
       "user\n",
       "53188       16\n",
       "68606       19\n",
       "105578      22\n",
       "128756      28\n",
       "11211       32\n",
       "          ... \n",
       "91349     1795\n",
       "32514     1830\n",
       "24219     1842\n",
       "54465     1980\n",
       "8405      2912\n",
       "Name: item, Length: 31360, dtype: int64"
      ]
     },
     "execution_count": 42,
     "metadata": {},
     "output_type": "execute_result"
    }
   ],
   "source": [
    "train.groupby('user').item.count().sort_values()"
   ]
  },
  {
   "cell_type": "markdown",
   "id": "f1762dfd-2ae1-41f2-bb8b-4e41571cf7e7",
   "metadata": {},
   "source": [
    "time feature를 알아볼 수 있도록 변경"
   ]
  },
  {
   "cell_type": "code",
   "execution_count": 66,
   "id": "232542f9-45c6-419c-8688-acffb589f5da",
   "metadata": {},
   "outputs": [
    {
     "data": {
      "text/html": [
       "<div>\n",
       "<style scoped>\n",
       "    .dataframe tbody tr th:only-of-type {\n",
       "        vertical-align: middle;\n",
       "    }\n",
       "\n",
       "    .dataframe tbody tr th {\n",
       "        vertical-align: top;\n",
       "    }\n",
       "\n",
       "    .dataframe thead th {\n",
       "        text-align: right;\n",
       "    }\n",
       "</style>\n",
       "<table border=\"1\" class=\"dataframe\">\n",
       "  <thead>\n",
       "    <tr style=\"text-align: right;\">\n",
       "      <th></th>\n",
       "      <th>user</th>\n",
       "      <th>item</th>\n",
       "      <th>time</th>\n",
       "      <th>timestamp</th>\n",
       "      <th>year</th>\n",
       "      <th>month</th>\n",
       "      <th>day</th>\n",
       "      <th>hour</th>\n",
       "      <th>minute</th>\n",
       "      <th>second</th>\n",
       "      <th>title</th>\n",
       "      <th>movie_year</th>\n",
       "    </tr>\n",
       "  </thead>\n",
       "  <tbody>\n",
       "    <tr>\n",
       "      <th>0</th>\n",
       "      <td>11</td>\n",
       "      <td>4643</td>\n",
       "      <td>1230782529</td>\n",
       "      <td>2009-01-01 04:02:09</td>\n",
       "      <td>2009</td>\n",
       "      <td>1</td>\n",
       "      <td>1</td>\n",
       "      <td>4</td>\n",
       "      <td>2</td>\n",
       "      <td>9</td>\n",
       "      <td>Planet of the Apes (2001)</td>\n",
       "      <td>2001</td>\n",
       "    </tr>\n",
       "    <tr>\n",
       "      <th>1</th>\n",
       "      <td>189</td>\n",
       "      <td>4643</td>\n",
       "      <td>1302945016</td>\n",
       "      <td>2011-04-16 09:10:16</td>\n",
       "      <td>2011</td>\n",
       "      <td>4</td>\n",
       "      <td>16</td>\n",
       "      <td>9</td>\n",
       "      <td>10</td>\n",
       "      <td>16</td>\n",
       "      <td>Planet of the Apes (2001)</td>\n",
       "      <td>2001</td>\n",
       "    </tr>\n",
       "    <tr>\n",
       "      <th>2</th>\n",
       "      <td>294</td>\n",
       "      <td>4643</td>\n",
       "      <td>1288437662</td>\n",
       "      <td>2010-10-30 11:21:02</td>\n",
       "      <td>2010</td>\n",
       "      <td>10</td>\n",
       "      <td>30</td>\n",
       "      <td>11</td>\n",
       "      <td>21</td>\n",
       "      <td>2</td>\n",
       "      <td>Planet of the Apes (2001)</td>\n",
       "      <td>2001</td>\n",
       "    </tr>\n",
       "    <tr>\n",
       "      <th>3</th>\n",
       "      <td>383</td>\n",
       "      <td>4643</td>\n",
       "      <td>1261996844</td>\n",
       "      <td>2009-12-28 10:40:44</td>\n",
       "      <td>2009</td>\n",
       "      <td>12</td>\n",
       "      <td>28</td>\n",
       "      <td>10</td>\n",
       "      <td>40</td>\n",
       "      <td>44</td>\n",
       "      <td>Planet of the Apes (2001)</td>\n",
       "      <td>2001</td>\n",
       "    </tr>\n",
       "    <tr>\n",
       "      <th>4</th>\n",
       "      <td>421</td>\n",
       "      <td>4643</td>\n",
       "      <td>1190624541</td>\n",
       "      <td>2007-09-24 09:02:21</td>\n",
       "      <td>2007</td>\n",
       "      <td>9</td>\n",
       "      <td>24</td>\n",
       "      <td>9</td>\n",
       "      <td>2</td>\n",
       "      <td>21</td>\n",
       "      <td>Planet of the Apes (2001)</td>\n",
       "      <td>2001</td>\n",
       "    </tr>\n",
       "  </tbody>\n",
       "</table>\n",
       "</div>"
      ],
      "text/plain": [
       "   user  item        time            timestamp  year  month  day  hour  \\\n",
       "0    11  4643  1230782529  2009-01-01 04:02:09  2009      1    1     4   \n",
       "1   189  4643  1302945016  2011-04-16 09:10:16  2011      4   16     9   \n",
       "2   294  4643  1288437662  2010-10-30 11:21:02  2010     10   30    11   \n",
       "3   383  4643  1261996844  2009-12-28 10:40:44  2009     12   28    10   \n",
       "4   421  4643  1190624541  2007-09-24 09:02:21  2007      9   24     9   \n",
       "\n",
       "   minute  second                      title  movie_year  \n",
       "0       2       9  Planet of the Apes (2001)        2001  \n",
       "1      10      16  Planet of the Apes (2001)        2001  \n",
       "2      21       2  Planet of the Apes (2001)        2001  \n",
       "3      40      44  Planet of the Apes (2001)        2001  \n",
       "4       2      21  Planet of the Apes (2001)        2001  "
      ]
     },
     "execution_count": 66,
     "metadata": {},
     "output_type": "execute_result"
    }
   ],
   "source": [
    "train['timestamp'] = train['time'].apply(lambda x : time.strftime('%Y-%m-%d %H:%M:%S', time.localtime(x)))\n",
    "train['year'] = train['time'].apply(lambda x : int(time.strftime('%Y', time.localtime(x))))\n",
    "train['month'] = train['time'].apply(lambda x : int(time.strftime('%m', time.localtime(x))))\n",
    "train['day'] = train['time'].apply(lambda x : int(time.strftime('%d', time.localtime(x))))\n",
    "train['hour'] = train['time'].apply(lambda x : int(time.strftime('%H', time.localtime(x))))\n",
    "train['minute'] = train['time'].apply(lambda x : int(time.strftime('%M', time.localtime(x))))\n",
    "train['second'] = train['time'].apply(lambda x : int(time.strftime('%S', time.localtime(x))))\n",
    "train.head()"
   ]
  },
  {
   "cell_type": "code",
   "execution_count": 67,
   "id": "69d55c7d",
   "metadata": {},
   "outputs": [
    {
     "data": {
      "image/png": "[encoded data removed]",
      "text/plain": [
       "<Figure size 1440x720 with 6 Axes>"
      ]
     },
     "metadata": {
      "needs_background": "light"
     },
     "output_type": "display_data"
    }
   ],
   "source": [
    "plt.figure(figsize=(20,10))\n",
    "index = 1\n",
    "for col in ['year', 'month', 'day', 'hour', 'minute', 'second'] :\n",
    "    data = train[col].value_counts().sort_index()\n",
    "    plt.subplot(2, 3, index)\n",
    "    plt.bar(data.index, data.values)\n",
    "    \n",
    "    index += 1\n"
   ]
  },
  {
   "cell_type": "markdown",
   "id": "a5399a40-13b1-43ed-8b31-17dcf4efeb82",
   "metadata": {},
   "source": [
    "item의 title 중복 확인"
   ]
  },
  {
   "cell_type": "code",
   "execution_count": 50,
   "id": "5c4faf2a-79f8-4fca-9282-4ed53bb8bcae",
   "metadata": {},
   "outputs": [
    {
     "data": {
      "text/plain": [
       "1"
      ]
     },
     "execution_count": 50,
     "metadata": {},
     "output_type": "execute_result"
    }
   ],
   "source": [
    "titles.groupby('item').title.nunique().max()"
   ]
  },
  {
   "cell_type": "code",
   "execution_count": 51,
   "id": "7c03fda2-045b-4ca4-b77a-ab60b081d8a8",
   "metadata": {},
   "outputs": [
    {
     "data": {
      "text/html": [
       "<div>\n",
       "<style scoped>\n",
       "    .dataframe tbody tr th:only-of-type {\n",
       "        vertical-align: middle;\n",
       "    }\n",
       "\n",
       "    .dataframe tbody tr th {\n",
       "        vertical-align: top;\n",
       "    }\n",
       "\n",
       "    .dataframe thead th {\n",
       "        text-align: right;\n",
       "    }\n",
       "</style>\n",
       "<table border=\"1\" class=\"dataframe\">\n",
       "  <thead>\n",
       "    <tr style=\"text-align: right;\">\n",
       "      <th></th>\n",
       "      <th>user</th>\n",
       "      <th>item</th>\n",
       "      <th>time</th>\n",
       "      <th>timestamp</th>\n",
       "      <th>year</th>\n",
       "      <th>month</th>\n",
       "      <th>day</th>\n",
       "      <th>hour</th>\n",
       "      <th>minute</th>\n",
       "      <th>second</th>\n",
       "      <th>title</th>\n",
       "    </tr>\n",
       "  </thead>\n",
       "  <tbody>\n",
       "    <tr>\n",
       "      <th>0</th>\n",
       "      <td>11</td>\n",
       "      <td>4643</td>\n",
       "      <td>1230782529</td>\n",
       "      <td>2009-01-01 04:02:09</td>\n",
       "      <td>2009</td>\n",
       "      <td>01</td>\n",
       "      <td>01</td>\n",
       "      <td>04</td>\n",
       "      <td>02</td>\n",
       "      <td>09</td>\n",
       "      <td>Planet of the Apes (2001)</td>\n",
       "    </tr>\n",
       "    <tr>\n",
       "      <th>1</th>\n",
       "      <td>189</td>\n",
       "      <td>4643</td>\n",
       "      <td>1302945016</td>\n",
       "      <td>2011-04-16 09:10:16</td>\n",
       "      <td>2011</td>\n",
       "      <td>04</td>\n",
       "      <td>16</td>\n",
       "      <td>09</td>\n",
       "      <td>10</td>\n",
       "      <td>16</td>\n",
       "      <td>Planet of the Apes (2001)</td>\n",
       "    </tr>\n",
       "    <tr>\n",
       "      <th>2</th>\n",
       "      <td>294</td>\n",
       "      <td>4643</td>\n",
       "      <td>1288437662</td>\n",
       "      <td>2010-10-30 11:21:02</td>\n",
       "      <td>2010</td>\n",
       "      <td>10</td>\n",
       "      <td>30</td>\n",
       "      <td>11</td>\n",
       "      <td>21</td>\n",
       "      <td>02</td>\n",
       "      <td>Planet of the Apes (2001)</td>\n",
       "    </tr>\n",
       "    <tr>\n",
       "      <th>3</th>\n",
       "      <td>383</td>\n",
       "      <td>4643</td>\n",
       "      <td>1261996844</td>\n",
       "      <td>2009-12-28 10:40:44</td>\n",
       "      <td>2009</td>\n",
       "      <td>12</td>\n",
       "      <td>28</td>\n",
       "      <td>10</td>\n",
       "      <td>40</td>\n",
       "      <td>44</td>\n",
       "      <td>Planet of the Apes (2001)</td>\n",
       "    </tr>\n",
       "    <tr>\n",
       "      <th>4</th>\n",
       "      <td>421</td>\n",
       "      <td>4643</td>\n",
       "      <td>1190624541</td>\n",
       "      <td>2007-09-24 09:02:21</td>\n",
       "      <td>2007</td>\n",
       "      <td>09</td>\n",
       "      <td>24</td>\n",
       "      <td>09</td>\n",
       "      <td>02</td>\n",
       "      <td>21</td>\n",
       "      <td>Planet of the Apes (2001)</td>\n",
       "    </tr>\n",
       "  </tbody>\n",
       "</table>\n",
       "</div>"
      ],
      "text/plain": [
       "   user  item        time            timestamp  year month day hour minute  \\\n",
       "0    11  4643  1230782529  2009-01-01 04:02:09  2009    01  01   04     02   \n",
       "1   189  4643  1302945016  2011-04-16 09:10:16  2011    04  16   09     10   \n",
       "2   294  4643  1288437662  2010-10-30 11:21:02  2010    10  30   11     21   \n",
       "3   383  4643  1261996844  2009-12-28 10:40:44  2009    12  28   10     40   \n",
       "4   421  4643  1190624541  2007-09-24 09:02:21  2007    09  24   09     02   \n",
       "\n",
       "  second                      title  \n",
       "0     09  Planet of the Apes (2001)  \n",
       "1     16  Planet of the Apes (2001)  \n",
       "2     02  Planet of the Apes (2001)  \n",
       "3     44  Planet of the Apes (2001)  \n",
       "4     21  Planet of the Apes (2001)  "
      ]
     },
     "execution_count": 51,
     "metadata": {},
     "output_type": "execute_result"
    }
   ],
   "source": [
    "train = pd.merge(train, titles, on='item')\n",
    "train.head()"
   ]
  },
  {
   "cell_type": "markdown",
   "id": "e629f59f-4483-4f25-a412-8bcb630819fc",
   "metadata": {},
   "source": [
    "item의 year 중복 확인"
   ]
  },
  {
   "cell_type": "code",
   "execution_count": 52,
   "id": "9b459b3d-2c0e-42d5-9088-255a1a1583f9",
   "metadata": {},
   "outputs": [
    {
     "data": {
      "text/plain": [
       "1"
      ]
     },
     "execution_count": 52,
     "metadata": {},
     "output_type": "execute_result"
    }
   ],
   "source": [
    "years.groupby('item').year.nunique().max()"
   ]
  },
  {
   "cell_type": "code",
   "execution_count": 54,
   "id": "0f26fd1a-d9d0-4d2e-a4d2-8accc7702fae",
   "metadata": {},
   "outputs": [
    {
     "data": {
      "text/html": [
       "<div>\n",
       "<style scoped>\n",
       "    .dataframe tbody tr th:only-of-type {\n",
       "        vertical-align: middle;\n",
       "    }\n",
       "\n",
       "    .dataframe tbody tr th {\n",
       "        vertical-align: top;\n",
       "    }\n",
       "\n",
       "    .dataframe thead th {\n",
       "        text-align: right;\n",
       "    }\n",
       "</style>\n",
       "<table border=\"1\" class=\"dataframe\">\n",
       "  <thead>\n",
       "    <tr style=\"text-align: right;\">\n",
       "      <th></th>\n",
       "      <th>user</th>\n",
       "      <th>item</th>\n",
       "      <th>time</th>\n",
       "      <th>timestamp</th>\n",
       "      <th>year</th>\n",
       "      <th>month</th>\n",
       "      <th>day</th>\n",
       "      <th>hour</th>\n",
       "      <th>minute</th>\n",
       "      <th>second</th>\n",
       "      <th>title</th>\n",
       "      <th>movie_year</th>\n",
       "    </tr>\n",
       "  </thead>\n",
       "  <tbody>\n",
       "    <tr>\n",
       "      <th>0</th>\n",
       "      <td>11</td>\n",
       "      <td>4643</td>\n",
       "      <td>1230782529</td>\n",
       "      <td>2009-01-01 04:02:09</td>\n",
       "      <td>2009</td>\n",
       "      <td>01</td>\n",
       "      <td>01</td>\n",
       "      <td>04</td>\n",
       "      <td>02</td>\n",
       "      <td>09</td>\n",
       "      <td>Planet of the Apes (2001)</td>\n",
       "      <td>2001</td>\n",
       "    </tr>\n",
       "    <tr>\n",
       "      <th>1</th>\n",
       "      <td>189</td>\n",
       "      <td>4643</td>\n",
       "      <td>1302945016</td>\n",
       "      <td>2011-04-16 09:10:16</td>\n",
       "      <td>2011</td>\n",
       "      <td>04</td>\n",
       "      <td>16</td>\n",
       "      <td>09</td>\n",
       "      <td>10</td>\n",
       "      <td>16</td>\n",
       "      <td>Planet of the Apes (2001)</td>\n",
       "      <td>2001</td>\n",
       "    </tr>\n",
       "    <tr>\n",
       "      <th>2</th>\n",
       "      <td>294</td>\n",
       "      <td>4643</td>\n",
       "      <td>1288437662</td>\n",
       "      <td>2010-10-30 11:21:02</td>\n",
       "      <td>2010</td>\n",
       "      <td>10</td>\n",
       "      <td>30</td>\n",
       "      <td>11</td>\n",
       "      <td>21</td>\n",
       "      <td>02</td>\n",
       "      <td>Planet of the Apes (2001)</td>\n",
       "      <td>2001</td>\n",
       "    </tr>\n",
       "    <tr>\n",
       "      <th>3</th>\n",
       "      <td>383</td>\n",
       "      <td>4643</td>\n",
       "      <td>1261996844</td>\n",
       "      <td>2009-12-28 10:40:44</td>\n",
       "      <td>2009</td>\n",
       "      <td>12</td>\n",
       "      <td>28</td>\n",
       "      <td>10</td>\n",
       "      <td>40</td>\n",
       "      <td>44</td>\n",
       "      <td>Planet of the Apes (2001)</td>\n",
       "      <td>2001</td>\n",
       "    </tr>\n",
       "    <tr>\n",
       "      <th>4</th>\n",
       "      <td>421</td>\n",
       "      <td>4643</td>\n",
       "      <td>1190624541</td>\n",
       "      <td>2007-09-24 09:02:21</td>\n",
       "      <td>2007</td>\n",
       "      <td>09</td>\n",
       "      <td>24</td>\n",
       "      <td>09</td>\n",
       "      <td>02</td>\n",
       "      <td>21</td>\n",
       "      <td>Planet of the Apes (2001)</td>\n",
       "      <td>2001</td>\n",
       "    </tr>\n",
       "  </tbody>\n",
       "</table>\n",
       "</div>"
      ],
      "text/plain": [
       "   user  item        time            timestamp  year month day hour minute  \\\n",
       "0    11  4643  1230782529  2009-01-01 04:02:09  2009    01  01   04     02   \n",
       "1   189  4643  1302945016  2011-04-16 09:10:16  2011    04  16   09     10   \n",
       "2   294  4643  1288437662  2010-10-30 11:21:02  2010    10  30   11     21   \n",
       "3   383  4643  1261996844  2009-12-28 10:40:44  2009    12  28   10     40   \n",
       "4   421  4643  1190624541  2007-09-24 09:02:21  2007    09  24   09     02   \n",
       "\n",
       "  second                      title  movie_year  \n",
       "0     09  Planet of the Apes (2001)        2001  \n",
       "1     16  Planet of the Apes (2001)        2001  \n",
       "2     02  Planet of the Apes (2001)        2001  \n",
       "3     44  Planet of the Apes (2001)        2001  \n",
       "4     21  Planet of the Apes (2001)        2001  "
      ]
     },
     "execution_count": 54,
     "metadata": {},
     "output_type": "execute_result"
    }
   ],
   "source": [
    "years.columns = ['item', 'movie_year']\n",
    "train = pd.merge(train, years, on='item')\n",
    "train.head()"
   ]
  },
  {
   "cell_type": "code",
   "execution_count": 81,
   "id": "1783b602-5009-46e8-a6fb-7655420220aa",
   "metadata": {},
   "outputs": [
    {
     "data": {
      "text/plain": [
       "<BarContainer object of 93 artists>"
      ]
     },
     "execution_count": 81,
     "metadata": {},
     "output_type": "execute_result"
    },
    {
     "data": {
      "image/png": "[encoded data removed]",
      "text/plain": [
       "<Figure size 720x720 with 1 Axes>"
      ]
     },
     "metadata": {
      "needs_background": "light"
     },
     "output_type": "display_data"
    }
   ],
   "source": [
    "data = train.movie_year.value_counts().sort_index()\n",
    "plt.figure(figsize=(10,10))\n",
    "plt.bar(data.index, data.values)"
   ]
  },
  {
   "cell_type": "code",
   "execution_count": 82,
   "id": "e6a19dbf-e9e9-4e96-a11f-30f53b0e513b",
   "metadata": {},
   "outputs": [
    {
     "data": {
      "text/plain": [
       "[<matplotlib.lines.Line2D at 0x7fa3e98f7970>]"
      ]
     },
     "execution_count": 82,
     "metadata": {},
     "output_type": "execute_result"
    },
    {
     "data": {
      "image/png": "[encoded data removed]",
      "text/plain": [
       "<Figure size 720x720 with 1 Axes>"
      ]
     },
     "metadata": {
      "needs_background": "light"
     },
     "output_type": "display_data"
    }
   ],
   "source": [
    "train['long'] = train[['year', 'movie_year']].apply(lambda x : x[0] - x[1], axis=1)\n",
    "plt.figure(figsize=(10,10))\n",
    "plt.plot(train.groupby('long').item.count())"
   ]
  },
  {
   "cell_type": "markdown",
   "id": "d5931ad0-f870-405b-9218-1de68676ba25",
   "metadata": {},
   "source": [
    "item의 director 중복 확인"
   ]
  },
  {
   "cell_type": "code",
   "execution_count": 55,
   "id": "22f414be-287a-4e65-8fe9-2f8aae9efbde",
   "metadata": {},
   "outputs": [
    {
     "data": {
      "text/plain": [
       "item\n",
       "1         1\n",
       "26163     1\n",
       "26158     1\n",
       "26151     1\n",
       "26150     1\n",
       "         ..\n",
       "7502      7\n",
       "71823     7\n",
       "27002     8\n",
       "1282     10\n",
       "50912    14\n",
       "Name: director, Length: 5503, dtype: int64"
      ]
     },
     "execution_count": 55,
     "metadata": {},
     "output_type": "execute_result"
    }
   ],
   "source": [
    "director_counts = directors.groupby('item').director.nunique().sort_values()\n",
    "director_counts"
   ]
  },
  {
   "cell_type": "code",
   "execution_count": 62,
   "id": "c398083e-2dd1-4869-8480-51acc600d098",
   "metadata": {},
   "outputs": [
    {
     "data": {
      "text/plain": [
       "' 76.78%,  86.92%'"
      ]
     },
     "execution_count": 62,
     "metadata": {},
     "output_type": "execute_result"
    }
   ],
   "source": [
    "ones = director_counts[director_counts == 1].index\n",
    "\n",
    "f\"{len(ones) / train.item.nunique() * 100: .2f}%, {len(train[train.item.isin(ones)].item) / len(train.item) * 100 : .2f}%\""
   ]
  },
  {
   "cell_type": "code",
   "execution_count": 84,
   "id": "fa3708f8-deb2-4677-b10b-13680129e016",
   "metadata": {},
   "outputs": [
    {
     "data": {
      "text/plain": [
       "item\n",
       "5463      1\n",
       "6567      1\n",
       "6583      1\n",
       "6586      1\n",
       "6592      1\n",
       "         ..\n",
       "48322    19\n",
       "364      21\n",
       "2687     21\n",
       "783      23\n",
       "1907     24\n",
       "Name: writer, Length: 5648, dtype: int64"
      ]
     },
     "execution_count": 84,
     "metadata": {},
     "output_type": "execute_result"
    }
   ],
   "source": [
    "writer_counts = writers.groupby('item').writer.nunique().sort_values()\n",
    "writer_counts"
   ]
  },
  {
   "cell_type": "code",
   "execution_count": 85,
   "id": "deca849a-6ac5-4a8d-878f-de0a160476bb",
   "metadata": {},
   "outputs": [
    {
     "data": {
      "text/plain": [
       "' 39.12%,  35.49%'"
      ]
     },
     "execution_count": 85,
     "metadata": {},
     "output_type": "execute_result"
    }
   ],
   "source": [
    "ones = writer_counts[writer_counts == 1].index\n",
    "\n",
    "f\"{len(ones) / train.item.nunique() * 100: .2f}%, {len(train[train.item.isin(ones)].item) / len(train.item) * 100 : .2f}%\""
   ]
  },
  {
   "cell_type": "code",
   "execution_count": 74,
   "id": "df20f4d1-8e14-49d6-a8bc-b52dfd70ee9a",
   "metadata": {},
   "outputs": [
    {
     "data": {
      "text/plain": [
       "genre\n",
       "Film-Noir        70402\n",
       "Documentary      90050\n",
       "Western          95374\n",
       "Musical         199635\n",
       "War             307061\n",
       "Horror          342967\n",
       "Animation       370761\n",
       "Children        397929\n",
       "Mystery         493005\n",
       "Fantasy         616861\n",
       "Sci-Fi          857668\n",
       "Romance         893773\n",
       "Crime          1013639\n",
       "Adventure      1203022\n",
       "Thriller       1435678\n",
       "Action         1504641\n",
       "Comedy         1718388\n",
       "Drama          2510670\n",
       "Name: item, dtype: int64"
      ]
     },
     "execution_count": 74,
     "metadata": {},
     "output_type": "execute_result"
    }
   ],
   "source": [
    "pd.merge(train, genres, on='item').groupby('genre').item.count().sort_values()"
   ]
  },
  {
   "cell_type": "code",
   "execution_count": null,
   "id": "a1df42ea-2bd6-4cc5-9607-e4cbc02b4463",
   "metadata": {},
   "outputs": [],
   "source": []
  }
 ],
 "metadata": {
  "kernelspec": {
   "display_name": "Python 3 (ipykernel)",
   "language": "python",
   "name": "python3"
  },
  "language_info": {
   "codemirror_mode": {
    "name": "ipython",
    "version": 3
   },
   "file_extension": ".py",
   "mimetype": "text/x-python",
   "name": "python",
   "nbconvert_exporter": "python",
   "pygments_lexer": "ipython3",
   "version": "3.8.5"
  }
 },
 "nbformat": 4,
 "nbformat_minor": 5
}
